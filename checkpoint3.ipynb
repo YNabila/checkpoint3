{
 "cells": [
  {
   "cell_type": "code",
   "execution_count": 1,
   "id": "a08e0cd1",
   "metadata": {},
   "outputs": [],
   "source": [
    "d1 = {'a': 100, 'b': 200, 'c':300}"
   ]
  },
  {
   "cell_type": "code",
   "execution_count": 2,
   "id": "5c548e29",
   "metadata": {},
   "outputs": [],
   "source": [
    "d2 = {'a': 300, 'b': 200, 'd':400}"
   ]
  },
  {
   "cell_type": "code",
   "execution_count": 5,
   "id": "7933ccb2",
   "metadata": {},
   "outputs": [],
   "source": [
    "d3={}"
   ]
  },
  {
   "cell_type": "code",
   "execution_count": 10,
   "id": "871ce4e3",
   "metadata": {},
   "outputs": [
    {
     "name": "stdout",
     "output_type": "stream",
     "text": [
      "{'a': 400, 'b': 400, 'c': 300, 'd': 400}\n"
     ]
    }
   ],
   "source": [
    "for key in d1.keys(): \n",
    "    if key in d2.keys():\n",
    "        d3[key]=d1[key]+d2[key]\n",
    "    else:\n",
    "        d3[key]=d1[key]\n",
    "for key in d2.keys(): \n",
    "    if key not in d1.keys():\n",
    "        d3[key]=d2[key]\n",
    "print(d3)"
   ]
  },
  {
   "cell_type": "code",
   "execution_count": 6,
   "id": "fc92f874",
   "metadata": {},
   "outputs": [],
   "source": [
    "n=8"
   ]
  },
  {
   "cell_type": "code",
   "execution_count": 2,
   "id": "e09ffc08",
   "metadata": {},
   "outputs": [],
   "source": [
    "dict3={}"
   ]
  },
  {
   "cell_type": "code",
   "execution_count": 9,
   "id": "53e0bc8e",
   "metadata": {},
   "outputs": [
    {
     "name": "stdout",
     "output_type": "stream",
     "text": [
      "{1: 1, 2: 4, 3: 9, 4: 16, 5: 25, 6: 36, 7: 49, 8: 64}\n"
     ]
    }
   ],
   "source": [
    "for i in range(1,n+1):\n",
    "    dict3[i]=i*i\n",
    "print(dict3)\n",
    "     "
   ]
  },
  {
   "cell_type": "code",
   "execution_count": 15,
   "id": "1be6118c",
   "metadata": {},
   "outputs": [],
   "source": [
    "list4 = [('item1', '12.20'), ('item2', '15.10'), ('item3', '24.5')]"
   ]
  },
  {
   "cell_type": "code",
   "execution_count": 16,
   "id": "2ac6fdee",
   "metadata": {},
   "outputs": [
    {
     "data": {
      "text/plain": [
       "[('item1', '12.20'), ('item2', '15.10'), ('item3', '24.5')]"
      ]
     },
     "execution_count": 16,
     "metadata": {},
     "output_type": "execute_result"
    }
   ],
   "source": [
    "sorted(list4, key=lambda tuple2: tuple2[1])"
   ]
  },
  {
   "cell_type": "code",
   "execution_count": 20,
   "id": "27efcd91",
   "metadata": {},
   "outputs": [],
   "source": [
    "list1=[1,5,4,2]\n",
    "x=1"
   ]
  },
  {
   "cell_type": "code",
   "execution_count": 18,
   "id": "8bcfe5be",
   "metadata": {},
   "outputs": [
    {
     "name": "stdout",
     "output_type": "stream",
     "text": [
      "40\n"
     ]
    }
   ],
   "source": [
    "for i in range(len(list1)):\n",
    "    x=x*list1[i]\n",
    "print(x)"
   ]
  },
  {
   "cell_type": "code",
   "execution_count": 21,
   "id": "cd8b4bb1",
   "metadata": {},
   "outputs": [
    {
     "name": "stdout",
     "output_type": "stream",
     "text": [
      "40\n"
     ]
    }
   ],
   "source": [
    "for i in list1:\n",
    "      x=x*i\n",
    "print(x)"
   ]
  },
  {
   "cell_type": "code",
   "execution_count": 22,
   "id": "4f55722e",
   "metadata": {},
   "outputs": [
    {
     "data": {
      "text/plain": [
       "[(2, 1), (1, 2), (2, 3), (4, 4), (2, 5)]"
      ]
     },
     "execution_count": 22,
     "metadata": {},
     "output_type": "execute_result"
    }
   ],
   "source": [
    "list2 = [(2, 5), (1, 2), (4, 4), (2, 3), (2, 1)]\n",
    "sorted(list2, key=lambda tuple2: tuple2[1])"
   ]
  },
  {
   "cell_type": "code",
   "execution_count": null,
   "id": "f73b2875",
   "metadata": {},
   "outputs": [],
   "source": []
  }
 ],
 "metadata": {
  "kernelspec": {
   "display_name": "Python 3 (ipykernel)",
   "language": "python",
   "name": "python3"
  },
  "language_info": {
   "codemirror_mode": {
    "name": "ipython",
    "version": 3
   },
   "file_extension": ".py",
   "mimetype": "text/x-python",
   "name": "python",
   "nbconvert_exporter": "python",
   "pygments_lexer": "ipython3",
   "version": "3.9.12"
  }
 },
 "nbformat": 4,
 "nbformat_minor": 5
}
